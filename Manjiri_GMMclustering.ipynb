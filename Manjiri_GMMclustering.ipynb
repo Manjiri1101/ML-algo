{
  "nbformat": 4,
  "nbformat_minor": 0,
  "metadata": {
    "colab": {
      "name": "Manjiri-GMMclustering.ipynb",
      "provenance": [],
      "authorship_tag": "ABX9TyOfGoBLwQnlKl25Kdrh7BKT",
      "include_colab_link": true
    },
    "kernelspec": {
      "name": "python3",
      "display_name": "Python 3"
    },
    "language_info": {
      "name": "python"
    }
  },
  "cells": [
    {
      "cell_type": "markdown",
      "metadata": {
        "id": "view-in-github",
        "colab_type": "text"
      },
      "source": [
        "<a href=\"https://colab.research.google.com/github/Manjiri1101/ML-algo/blob/main/Manjiri_GMMclustering.ipynb\" target=\"_parent\"><img src=\"https://colab.research.google.com/assets/colab-badge.svg\" alt=\"Open In Colab\"/></a>"
      ]
    },
    {
      "cell_type": "markdown",
      "metadata": {
        "id": "LgWPsnkiGx3r"
      },
      "source": [
        "**Assignment 2**: Cluster with GMM and one Other Algorithm\n",
        "\n",
        "Project : Wildfire Prediction\n",
        "\n",
        "Problem Statement:\n",
        "Find the correlation between Humidity and Precipitation to see the dryness of the area.\n",
        "When more dry, chances of fire is high.\n",
        "\n",
        "\n",
        "Dataset Used Dataset from Kaggle : https://www.kaggle.com/capcloudcoder/us-wildfire-data-plus-other-attributes?select=Wildfire_att_description.txt\n",
        "\n",
        "About dataset:\n",
        "\n",
        "This dataset consist of random 50000 samples from https://www.kaggle.com/rtatman/188-million-us-wildfires dataset. It has historic vagetation, weather data, and geographical coordinates of wildfire. From this dataset , I am focusing on 1) fire_mag: magnitude of fire intensity (scaled version of fire_size) 2) Prec_pre_7: precipitation in mm at the location of fire upto 7 days prior 3) Hum_pre_7 : humidity in % at the location of fire upto 7 days prior (Above information is provided in the dataset)"
      ]
    },
    {
      "cell_type": "markdown",
      "metadata": {
        "id": "hjrgd7prG0ze"
      },
      "source": [
        ""
      ]
    },
    {
      "cell_type": "markdown",
      "metadata": {
        "id": "yUDp7DX9HTu5"
      },
      "source": [
        ""
      ]
    },
    {
      "cell_type": "code",
      "metadata": {
        "colab": {
          "base_uri": "https://localhost:8080/"
        },
        "id": "oLn4p-foGfdD",
        "outputId": "5e37d4fe-8e13-4719-a991-8559dfe8daa0"
      },
      "source": [
        "from google.colab import drive \n",
        "drive.mount('/content/gdrive')"
      ],
      "execution_count": 1,
      "outputs": [
        {
          "output_type": "stream",
          "name": "stdout",
          "text": [
            "Mounted at /content/gdrive\n"
          ]
        }
      ]
    },
    {
      "cell_type": "code",
      "metadata": {
        "id": "zhI-Pv91IWSB"
      },
      "source": [
        "#Importing the required Python Packages\n",
        "import numpy as np\n",
        "import pandas as pd\n",
        "import seaborn as sns\n",
        "import matplotlib.pyplot as plt\n",
        "from scipy import linalg\n",
        "import matplotlib as mpl\n",
        "import itertools\n",
        "from sklearn import mixture\n",
        "from sklearn import neighbors, datasets\n",
        "from sklearn.cluster import KMeans\n",
        "%matplotlib inline"
      ],
      "execution_count": 66,
      "outputs": []
    },
    {
      "cell_type": "code",
      "metadata": {
        "colab": {
          "base_uri": "https://localhost:8080/",
          "height": 358
        },
        "id": "1anPl_5oKV-w",
        "outputId": "04a6c573-91fd-491b-c80d-0850dbe952ba"
      },
      "source": [
        "#Read the dataset as a dataframe:\n",
        "\n",
        "df_raw = pd.read_csv('/content/gdrive/MyDrive/FW_Veg_Rem_combined.csv')\n",
        "df_raw.head(5)"
      ],
      "execution_count": 67,
      "outputs": [
        {
          "output_type": "execute_result",
          "data": {
            "text/html": [
              "<div>\n",
              "<style scoped>\n",
              "    .dataframe tbody tr th:only-of-type {\n",
              "        vertical-align: middle;\n",
              "    }\n",
              "\n",
              "    .dataframe tbody tr th {\n",
              "        vertical-align: top;\n",
              "    }\n",
              "\n",
              "    .dataframe thead th {\n",
              "        text-align: right;\n",
              "    }\n",
              "</style>\n",
              "<table border=\"1\" class=\"dataframe\">\n",
              "  <thead>\n",
              "    <tr style=\"text-align: right;\">\n",
              "      <th></th>\n",
              "      <th>Unnamed: 0</th>\n",
              "      <th>Unnamed: 0.1</th>\n",
              "      <th>fire_name</th>\n",
              "      <th>fire_size</th>\n",
              "      <th>fire_size_class</th>\n",
              "      <th>stat_cause_descr</th>\n",
              "      <th>latitude</th>\n",
              "      <th>longitude</th>\n",
              "      <th>state</th>\n",
              "      <th>disc_clean_date</th>\n",
              "      <th>cont_clean_date</th>\n",
              "      <th>discovery_month</th>\n",
              "      <th>disc_date_final</th>\n",
              "      <th>cont_date_final</th>\n",
              "      <th>putout_time</th>\n",
              "      <th>disc_date_pre</th>\n",
              "      <th>disc_pre_year</th>\n",
              "      <th>disc_pre_month</th>\n",
              "      <th>wstation_usaf</th>\n",
              "      <th>dstation_m</th>\n",
              "      <th>wstation_wban</th>\n",
              "      <th>wstation_byear</th>\n",
              "      <th>wstation_eyear</th>\n",
              "      <th>Vegetation</th>\n",
              "      <th>fire_mag</th>\n",
              "      <th>weather_file</th>\n",
              "      <th>Temp_pre_30</th>\n",
              "      <th>Temp_pre_15</th>\n",
              "      <th>Temp_pre_7</th>\n",
              "      <th>Temp_cont</th>\n",
              "      <th>Wind_pre_30</th>\n",
              "      <th>Wind_pre_15</th>\n",
              "      <th>Wind_pre_7</th>\n",
              "      <th>Wind_cont</th>\n",
              "      <th>Hum_pre_30</th>\n",
              "      <th>Hum_pre_15</th>\n",
              "      <th>Hum_pre_7</th>\n",
              "      <th>Hum_cont</th>\n",
              "      <th>Prec_pre_30</th>\n",
              "      <th>Prec_pre_15</th>\n",
              "      <th>Prec_pre_7</th>\n",
              "      <th>Prec_cont</th>\n",
              "      <th>remoteness</th>\n",
              "    </tr>\n",
              "  </thead>\n",
              "  <tbody>\n",
              "    <tr>\n",
              "      <th>0</th>\n",
              "      <td>0</td>\n",
              "      <td>0</td>\n",
              "      <td>NaN</td>\n",
              "      <td>10.0</td>\n",
              "      <td>C</td>\n",
              "      <td>Missing/Undefined</td>\n",
              "      <td>18.105072</td>\n",
              "      <td>-66.753044</td>\n",
              "      <td>PR</td>\n",
              "      <td>2/11/2007</td>\n",
              "      <td>NaN</td>\n",
              "      <td>Feb</td>\n",
              "      <td>NaN</td>\n",
              "      <td>NaN</td>\n",
              "      <td>NaN</td>\n",
              "      <td>1/12/2007</td>\n",
              "      <td>2007</td>\n",
              "      <td>Jan</td>\n",
              "      <td>785140</td>\n",
              "      <td>58917.69716</td>\n",
              "      <td>11603</td>\n",
              "      <td>1945</td>\n",
              "      <td>2018</td>\n",
              "      <td>12</td>\n",
              "      <td>1.0</td>\n",
              "      <td>785140-11603-2007.gz</td>\n",
              "      <td>24.480974</td>\n",
              "      <td>24.716923</td>\n",
              "      <td>24.902597</td>\n",
              "      <td>24.527961</td>\n",
              "      <td>4.341807</td>\n",
              "      <td>3.492857</td>\n",
              "      <td>3.262092</td>\n",
              "      <td>3.250413</td>\n",
              "      <td>78.216590</td>\n",
              "      <td>76.793750</td>\n",
              "      <td>76.381579</td>\n",
              "      <td>78.724370</td>\n",
              "      <td>0.0</td>\n",
              "      <td>0.0</td>\n",
              "      <td>0.0</td>\n",
              "      <td>0.0</td>\n",
              "      <td>0.017923</td>\n",
              "    </tr>\n",
              "    <tr>\n",
              "      <th>1</th>\n",
              "      <td>1</td>\n",
              "      <td>1</td>\n",
              "      <td>NaN</td>\n",
              "      <td>3.0</td>\n",
              "      <td>B</td>\n",
              "      <td>Arson</td>\n",
              "      <td>35.038330</td>\n",
              "      <td>-87.610000</td>\n",
              "      <td>TN</td>\n",
              "      <td>12/11/2006</td>\n",
              "      <td>NaN</td>\n",
              "      <td>Dec</td>\n",
              "      <td>NaN</td>\n",
              "      <td>NaN</td>\n",
              "      <td>NaN</td>\n",
              "      <td>11/11/2006</td>\n",
              "      <td>2006</td>\n",
              "      <td>Nov</td>\n",
              "      <td>723235</td>\n",
              "      <td>32665.34327</td>\n",
              "      <td>13896</td>\n",
              "      <td>1978</td>\n",
              "      <td>2020</td>\n",
              "      <td>15</td>\n",
              "      <td>0.1</td>\n",
              "      <td>723235-13896-2006.gz</td>\n",
              "      <td>7.553433</td>\n",
              "      <td>7.010000</td>\n",
              "      <td>0.343529</td>\n",
              "      <td>10.448298</td>\n",
              "      <td>2.709764</td>\n",
              "      <td>2.881707</td>\n",
              "      <td>1.976471</td>\n",
              "      <td>2.122320</td>\n",
              "      <td>70.840000</td>\n",
              "      <td>65.858911</td>\n",
              "      <td>55.505882</td>\n",
              "      <td>81.682678</td>\n",
              "      <td>59.8</td>\n",
              "      <td>8.4</td>\n",
              "      <td>0.0</td>\n",
              "      <td>86.8</td>\n",
              "      <td>0.184355</td>\n",
              "    </tr>\n",
              "    <tr>\n",
              "      <th>2</th>\n",
              "      <td>2</td>\n",
              "      <td>2</td>\n",
              "      <td>NaN</td>\n",
              "      <td>60.0</td>\n",
              "      <td>C</td>\n",
              "      <td>Arson</td>\n",
              "      <td>34.947800</td>\n",
              "      <td>-88.722500</td>\n",
              "      <td>MS</td>\n",
              "      <td>2/29/2004</td>\n",
              "      <td>NaN</td>\n",
              "      <td>Feb</td>\n",
              "      <td>NaN</td>\n",
              "      <td>NaN</td>\n",
              "      <td>NaN</td>\n",
              "      <td>1/30/2004</td>\n",
              "      <td>2004</td>\n",
              "      <td>Jan</td>\n",
              "      <td>723235</td>\n",
              "      <td>105122.14950</td>\n",
              "      <td>13896</td>\n",
              "      <td>1978</td>\n",
              "      <td>2020</td>\n",
              "      <td>16</td>\n",
              "      <td>1.0</td>\n",
              "      <td>723235-13896-2004.gz</td>\n",
              "      <td>4.971930</td>\n",
              "      <td>5.782766</td>\n",
              "      <td>5.558750</td>\n",
              "      <td>13.696600</td>\n",
              "      <td>3.364499</td>\n",
              "      <td>2.923830</td>\n",
              "      <td>2.695833</td>\n",
              "      <td>3.369050</td>\n",
              "      <td>75.531629</td>\n",
              "      <td>75.868613</td>\n",
              "      <td>76.812834</td>\n",
              "      <td>65.063800</td>\n",
              "      <td>168.8</td>\n",
              "      <td>42.2</td>\n",
              "      <td>18.1</td>\n",
              "      <td>124.5</td>\n",
              "      <td>0.194544</td>\n",
              "    </tr>\n",
              "    <tr>\n",
              "      <th>3</th>\n",
              "      <td>3</td>\n",
              "      <td>3</td>\n",
              "      <td>WNA  1</td>\n",
              "      <td>1.0</td>\n",
              "      <td>B</td>\n",
              "      <td>Debris Burning</td>\n",
              "      <td>39.641400</td>\n",
              "      <td>-119.308300</td>\n",
              "      <td>NV</td>\n",
              "      <td>6/6/2005</td>\n",
              "      <td>6/6/2005</td>\n",
              "      <td>Jun</td>\n",
              "      <td>6/6/2005 2:14</td>\n",
              "      <td>6/6/2005 18:00</td>\n",
              "      <td>0 days 00:00:00.000000000</td>\n",
              "      <td>5/7/2005</td>\n",
              "      <td>2005</td>\n",
              "      <td>May</td>\n",
              "      <td>724880</td>\n",
              "      <td>43433.32978</td>\n",
              "      <td>23185</td>\n",
              "      <td>1942</td>\n",
              "      <td>2020</td>\n",
              "      <td>0</td>\n",
              "      <td>0.1</td>\n",
              "      <td>724880-23185-2005.gz</td>\n",
              "      <td>16.275967</td>\n",
              "      <td>18.996181</td>\n",
              "      <td>18.142564</td>\n",
              "      <td>0.000000</td>\n",
              "      <td>4.054982</td>\n",
              "      <td>3.398329</td>\n",
              "      <td>3.671282</td>\n",
              "      <td>0.000000</td>\n",
              "      <td>44.778429</td>\n",
              "      <td>37.140811</td>\n",
              "      <td>35.353846</td>\n",
              "      <td>0.000000</td>\n",
              "      <td>10.4</td>\n",
              "      <td>7.2</td>\n",
              "      <td>0.0</td>\n",
              "      <td>0.0</td>\n",
              "      <td>0.487447</td>\n",
              "    </tr>\n",
              "    <tr>\n",
              "      <th>4</th>\n",
              "      <td>4</td>\n",
              "      <td>4</td>\n",
              "      <td>NaN</td>\n",
              "      <td>2.0</td>\n",
              "      <td>B</td>\n",
              "      <td>Miscellaneous</td>\n",
              "      <td>30.700600</td>\n",
              "      <td>-90.591400</td>\n",
              "      <td>LA</td>\n",
              "      <td>9/22/1999</td>\n",
              "      <td>NaN</td>\n",
              "      <td>Sep</td>\n",
              "      <td>NaN</td>\n",
              "      <td>NaN</td>\n",
              "      <td>NaN</td>\n",
              "      <td>8/23/1999</td>\n",
              "      <td>1999</td>\n",
              "      <td>Aug</td>\n",
              "      <td>722312</td>\n",
              "      <td>25940.57409</td>\n",
              "      <td>3908</td>\n",
              "      <td>1987</td>\n",
              "      <td>2016</td>\n",
              "      <td>12</td>\n",
              "      <td>0.1</td>\n",
              "      <td>File Not Found</td>\n",
              "      <td>-1.000000</td>\n",
              "      <td>-1.000000</td>\n",
              "      <td>-1.000000</td>\n",
              "      <td>-1.000000</td>\n",
              "      <td>-1.000000</td>\n",
              "      <td>-1.000000</td>\n",
              "      <td>-1.000000</td>\n",
              "      <td>-1.000000</td>\n",
              "      <td>-1.000000</td>\n",
              "      <td>-1.000000</td>\n",
              "      <td>-1.000000</td>\n",
              "      <td>-1.000000</td>\n",
              "      <td>-1.0</td>\n",
              "      <td>-1.0</td>\n",
              "      <td>-1.0</td>\n",
              "      <td>-1.0</td>\n",
              "      <td>0.214633</td>\n",
              "    </tr>\n",
              "  </tbody>\n",
              "</table>\n",
              "</div>"
            ],
            "text/plain": [
              "   Unnamed: 0  Unnamed: 0.1 fire_name  ...  Prec_pre_7 Prec_cont remoteness\n",
              "0           0             0       NaN  ...         0.0       0.0   0.017923\n",
              "1           1             1       NaN  ...         0.0      86.8   0.184355\n",
              "2           2             2       NaN  ...        18.1     124.5   0.194544\n",
              "3           3             3    WNA  1  ...         0.0       0.0   0.487447\n",
              "4           4             4       NaN  ...        -1.0      -1.0   0.214633\n",
              "\n",
              "[5 rows x 43 columns]"
            ]
          },
          "metadata": {},
          "execution_count": 67
        }
      ]
    },
    {
      "cell_type": "code",
      "metadata": {
        "colab": {
          "base_uri": "https://localhost:8080/",
          "height": 332
        },
        "id": "SVC9oAcuI_PV",
        "outputId": "5af04135-e79a-4576-ddb9-1eef413d3b5e"
      },
      "source": [
        "df_raw.describe()"
      ],
      "execution_count": 68,
      "outputs": [
        {
          "output_type": "execute_result",
          "data": {
            "text/html": [
              "<div>\n",
              "<style scoped>\n",
              "    .dataframe tbody tr th:only-of-type {\n",
              "        vertical-align: middle;\n",
              "    }\n",
              "\n",
              "    .dataframe tbody tr th {\n",
              "        vertical-align: top;\n",
              "    }\n",
              "\n",
              "    .dataframe thead th {\n",
              "        text-align: right;\n",
              "    }\n",
              "</style>\n",
              "<table border=\"1\" class=\"dataframe\">\n",
              "  <thead>\n",
              "    <tr style=\"text-align: right;\">\n",
              "      <th></th>\n",
              "      <th>Unnamed: 0</th>\n",
              "      <th>Unnamed: 0.1</th>\n",
              "      <th>fire_size</th>\n",
              "      <th>latitude</th>\n",
              "      <th>longitude</th>\n",
              "      <th>disc_pre_year</th>\n",
              "      <th>dstation_m</th>\n",
              "      <th>wstation_wban</th>\n",
              "      <th>wstation_byear</th>\n",
              "      <th>wstation_eyear</th>\n",
              "      <th>Vegetation</th>\n",
              "      <th>fire_mag</th>\n",
              "      <th>Temp_pre_30</th>\n",
              "      <th>Temp_pre_15</th>\n",
              "      <th>Temp_pre_7</th>\n",
              "      <th>Temp_cont</th>\n",
              "      <th>Wind_pre_30</th>\n",
              "      <th>Wind_pre_15</th>\n",
              "      <th>Wind_pre_7</th>\n",
              "      <th>Wind_cont</th>\n",
              "      <th>Hum_pre_30</th>\n",
              "      <th>Hum_pre_15</th>\n",
              "      <th>Hum_pre_7</th>\n",
              "      <th>Hum_cont</th>\n",
              "      <th>Prec_pre_30</th>\n",
              "      <th>Prec_pre_15</th>\n",
              "      <th>Prec_pre_7</th>\n",
              "      <th>Prec_cont</th>\n",
              "      <th>remoteness</th>\n",
              "    </tr>\n",
              "  </thead>\n",
              "  <tbody>\n",
              "    <tr>\n",
              "      <th>count</th>\n",
              "      <td>55367.000000</td>\n",
              "      <td>55367.000000</td>\n",
              "      <td>55367.000000</td>\n",
              "      <td>55367.000000</td>\n",
              "      <td>55367.000000</td>\n",
              "      <td>55367.000000</td>\n",
              "      <td>55367.000000</td>\n",
              "      <td>55367.000000</td>\n",
              "      <td>55367.000000</td>\n",
              "      <td>55367.000000</td>\n",
              "      <td>55367.000000</td>\n",
              "      <td>55367.000000</td>\n",
              "      <td>55367.000000</td>\n",
              "      <td>55367.000000</td>\n",
              "      <td>55367.000000</td>\n",
              "      <td>55367.000000</td>\n",
              "      <td>55367.000000</td>\n",
              "      <td>55367.000000</td>\n",
              "      <td>55367.000000</td>\n",
              "      <td>55367.000000</td>\n",
              "      <td>55367.000000</td>\n",
              "      <td>55367.000000</td>\n",
              "      <td>55367.000000</td>\n",
              "      <td>55367.000000</td>\n",
              "      <td>55367.000000</td>\n",
              "      <td>55367.000000</td>\n",
              "      <td>55367.000000</td>\n",
              "      <td>55367.000000</td>\n",
              "      <td>55367.000000</td>\n",
              "    </tr>\n",
              "    <tr>\n",
              "      <th>mean</th>\n",
              "      <td>27683.000000</td>\n",
              "      <td>27683.000000</td>\n",
              "      <td>2104.645161</td>\n",
              "      <td>36.172866</td>\n",
              "      <td>-94.757971</td>\n",
              "      <td>2003.765474</td>\n",
              "      <td>40256.474678</td>\n",
              "      <td>61029.607311</td>\n",
              "      <td>1979.341900</td>\n",
              "      <td>2015.480990</td>\n",
              "      <td>11.066068</td>\n",
              "      <td>9.414366</td>\n",
              "      <td>10.688533</td>\n",
              "      <td>10.800765</td>\n",
              "      <td>10.907171</td>\n",
              "      <td>7.838208</td>\n",
              "      <td>1.926108</td>\n",
              "      <td>1.844133</td>\n",
              "      <td>1.791331</td>\n",
              "      <td>1.132284</td>\n",
              "      <td>40.781796</td>\n",
              "      <td>38.453935</td>\n",
              "      <td>37.001865</td>\n",
              "      <td>25.056738</td>\n",
              "      <td>26.277046</td>\n",
              "      <td>11.654253</td>\n",
              "      <td>4.689920</td>\n",
              "      <td>15.590440</td>\n",
              "      <td>0.236799</td>\n",
              "    </tr>\n",
              "    <tr>\n",
              "      <th>std</th>\n",
              "      <td>15983.220514</td>\n",
              "      <td>15983.220514</td>\n",
              "      <td>14777.005364</td>\n",
              "      <td>6.724348</td>\n",
              "      <td>15.878194</td>\n",
              "      <td>6.584889</td>\n",
              "      <td>25272.081410</td>\n",
              "      <td>40830.393541</td>\n",
              "      <td>23.372803</td>\n",
              "      <td>6.767851</td>\n",
              "      <td>5.595719</td>\n",
              "      <td>26.820363</td>\n",
              "      <td>10.467579</td>\n",
              "      <td>10.633803</td>\n",
              "      <td>10.807985</td>\n",
              "      <td>10.565555</td>\n",
              "      <td>2.106165</td>\n",
              "      <td>2.122697</td>\n",
              "      <td>2.139708</td>\n",
              "      <td>2.030611</td>\n",
              "      <td>31.086856</td>\n",
              "      <td>31.042541</td>\n",
              "      <td>30.827885</td>\n",
              "      <td>31.187638</td>\n",
              "      <td>112.050198</td>\n",
              "      <td>56.920510</td>\n",
              "      <td>31.205327</td>\n",
              "      <td>59.757113</td>\n",
              "      <td>0.144865</td>\n",
              "    </tr>\n",
              "    <tr>\n",
              "      <th>min</th>\n",
              "      <td>0.000000</td>\n",
              "      <td>0.000000</td>\n",
              "      <td>0.510000</td>\n",
              "      <td>17.956533</td>\n",
              "      <td>-165.936000</td>\n",
              "      <td>1991.000000</td>\n",
              "      <td>6.166452</td>\n",
              "      <td>100.000000</td>\n",
              "      <td>1931.000000</td>\n",
              "      <td>1993.000000</td>\n",
              "      <td>0.000000</td>\n",
              "      <td>0.100000</td>\n",
              "      <td>-49.210526</td>\n",
              "      <td>-37.000000</td>\n",
              "      <td>-20.846104</td>\n",
              "      <td>-22.750000</td>\n",
              "      <td>-1.000000</td>\n",
              "      <td>-1.000000</td>\n",
              "      <td>-1.000000</td>\n",
              "      <td>-1.000000</td>\n",
              "      <td>-1.000000</td>\n",
              "      <td>-1.000000</td>\n",
              "      <td>-1.000000</td>\n",
              "      <td>-1.000000</td>\n",
              "      <td>-1.000000</td>\n",
              "      <td>-1.000000</td>\n",
              "      <td>-1.000000</td>\n",
              "      <td>-1.000000</td>\n",
              "      <td>0.000000</td>\n",
              "    </tr>\n",
              "    <tr>\n",
              "      <th>25%</th>\n",
              "      <td>13841.500000</td>\n",
              "      <td>13841.500000</td>\n",
              "      <td>1.200000</td>\n",
              "      <td>32.265960</td>\n",
              "      <td>-102.541513</td>\n",
              "      <td>1999.000000</td>\n",
              "      <td>21373.361515</td>\n",
              "      <td>13927.000000</td>\n",
              "      <td>1973.000000</td>\n",
              "      <td>2010.000000</td>\n",
              "      <td>9.000000</td>\n",
              "      <td>0.100000</td>\n",
              "      <td>-1.000000</td>\n",
              "      <td>-1.000000</td>\n",
              "      <td>-1.000000</td>\n",
              "      <td>-1.000000</td>\n",
              "      <td>-1.000000</td>\n",
              "      <td>-1.000000</td>\n",
              "      <td>-1.000000</td>\n",
              "      <td>-1.000000</td>\n",
              "      <td>-1.000000</td>\n",
              "      <td>-1.000000</td>\n",
              "      <td>-1.000000</td>\n",
              "      <td>-1.000000</td>\n",
              "      <td>-1.000000</td>\n",
              "      <td>-1.000000</td>\n",
              "      <td>-1.000000</td>\n",
              "      <td>-1.000000</td>\n",
              "      <td>0.137800</td>\n",
              "    </tr>\n",
              "    <tr>\n",
              "      <th>50%</th>\n",
              "      <td>27683.000000</td>\n",
              "      <td>27683.000000</td>\n",
              "      <td>4.000000</td>\n",
              "      <td>34.600000</td>\n",
              "      <td>-91.212359</td>\n",
              "      <td>2005.000000</td>\n",
              "      <td>35621.334820</td>\n",
              "      <td>73803.000000</td>\n",
              "      <td>1978.000000</td>\n",
              "      <td>2020.000000</td>\n",
              "      <td>12.000000</td>\n",
              "      <td>0.100000</td>\n",
              "      <td>9.945559</td>\n",
              "      <td>10.122047</td>\n",
              "      <td>10.237860</td>\n",
              "      <td>0.000000</td>\n",
              "      <td>2.422880</td>\n",
              "      <td>2.295954</td>\n",
              "      <td>2.175431</td>\n",
              "      <td>0.000000</td>\n",
              "      <td>55.657480</td>\n",
              "      <td>51.753846</td>\n",
              "      <td>48.230769</td>\n",
              "      <td>0.000000</td>\n",
              "      <td>0.000000</td>\n",
              "      <td>0.000000</td>\n",
              "      <td>0.000000</td>\n",
              "      <td>0.000000</td>\n",
              "      <td>0.202114</td>\n",
              "    </tr>\n",
              "    <tr>\n",
              "      <th>75%</th>\n",
              "      <td>41524.500000</td>\n",
              "      <td>41524.500000</td>\n",
              "      <td>20.000000</td>\n",
              "      <td>38.975235</td>\n",
              "      <td>-82.847500</td>\n",
              "      <td>2009.000000</td>\n",
              "      <td>53985.904315</td>\n",
              "      <td>99999.000000</td>\n",
              "      <td>2004.000000</td>\n",
              "      <td>2020.000000</td>\n",
              "      <td>15.000000</td>\n",
              "      <td>1.000000</td>\n",
              "      <td>20.015591</td>\n",
              "      <td>20.259329</td>\n",
              "      <td>20.502848</td>\n",
              "      <td>17.011853</td>\n",
              "      <td>3.469751</td>\n",
              "      <td>3.435482</td>\n",
              "      <td>3.392260</td>\n",
              "      <td>2.848603</td>\n",
              "      <td>67.384352</td>\n",
              "      <td>65.911469</td>\n",
              "      <td>64.645296</td>\n",
              "      <td>60.193606</td>\n",
              "      <td>18.900000</td>\n",
              "      <td>3.600000</td>\n",
              "      <td>0.000000</td>\n",
              "      <td>0.000000</td>\n",
              "      <td>0.284782</td>\n",
              "    </tr>\n",
              "    <tr>\n",
              "      <th>max</th>\n",
              "      <td>55366.000000</td>\n",
              "      <td>55366.000000</td>\n",
              "      <td>606945.000000</td>\n",
              "      <td>69.849500</td>\n",
              "      <td>-65.285833</td>\n",
              "      <td>2015.000000</td>\n",
              "      <td>224153.661800</td>\n",
              "      <td>99999.000000</td>\n",
              "      <td>2014.000000</td>\n",
              "      <td>2020.000000</td>\n",
              "      <td>16.000000</td>\n",
              "      <td>100.000000</td>\n",
              "      <td>46.600000</td>\n",
              "      <td>51.567797</td>\n",
              "      <td>55.000000</td>\n",
              "      <td>55.000000</td>\n",
              "      <td>29.800000</td>\n",
              "      <td>29.800000</td>\n",
              "      <td>25.700000</td>\n",
              "      <td>24.200000</td>\n",
              "      <td>96.000000</td>\n",
              "      <td>94.000000</td>\n",
              "      <td>96.000000</td>\n",
              "      <td>94.000000</td>\n",
              "      <td>13560.800000</td>\n",
              "      <td>2527.000000</td>\n",
              "      <td>1638.000000</td>\n",
              "      <td>2126.000000</td>\n",
              "      <td>1.000000</td>\n",
              "    </tr>\n",
              "  </tbody>\n",
              "</table>\n",
              "</div>"
            ],
            "text/plain": [
              "         Unnamed: 0  Unnamed: 0.1  ...     Prec_cont    remoteness\n",
              "count  55367.000000  55367.000000  ...  55367.000000  55367.000000\n",
              "mean   27683.000000  27683.000000  ...     15.590440      0.236799\n",
              "std    15983.220514  15983.220514  ...     59.757113      0.144865\n",
              "min        0.000000      0.000000  ...     -1.000000      0.000000\n",
              "25%    13841.500000  13841.500000  ...     -1.000000      0.137800\n",
              "50%    27683.000000  27683.000000  ...      0.000000      0.202114\n",
              "75%    41524.500000  41524.500000  ...      0.000000      0.284782\n",
              "max    55366.000000  55366.000000  ...   2126.000000      1.000000\n",
              "\n",
              "[8 rows x 29 columns]"
            ]
          },
          "metadata": {},
          "execution_count": 68
        }
      ]
    },
    {
      "cell_type": "code",
      "metadata": {
        "colab": {
          "base_uri": "https://localhost:8080/"
        },
        "id": "6aO55eePKuJk",
        "outputId": "a487660b-9671-45a9-ad34-1b6e27b1428f"
      },
      "source": [
        "for col in df.columns:\n",
        "    print(col)"
      ],
      "execution_count": 69,
      "outputs": [
        {
          "output_type": "stream",
          "name": "stdout",
          "text": [
            "Prec_pre_7\n",
            "Hum_pre_7\n",
            "cluster\n"
          ]
        }
      ]
    },
    {
      "cell_type": "code",
      "metadata": {
        "colab": {
          "base_uri": "https://localhost:8080/",
          "height": 408
        },
        "id": "78dGeSq6K5gZ",
        "outputId": "6fc8da1e-5000-4ff4-f450-0b10bd206226"
      },
      "source": [
        "# Data wrangling, dropping the NaN data rows\n",
        "df =df_raw.dropna()\n",
        "df.head(5)"
      ],
      "execution_count": 70,
      "outputs": [
        {
          "output_type": "execute_result",
          "data": {
            "text/html": [
              "<div>\n",
              "<style scoped>\n",
              "    .dataframe tbody tr th:only-of-type {\n",
              "        vertical-align: middle;\n",
              "    }\n",
              "\n",
              "    .dataframe tbody tr th {\n",
              "        vertical-align: top;\n",
              "    }\n",
              "\n",
              "    .dataframe thead th {\n",
              "        text-align: right;\n",
              "    }\n",
              "</style>\n",
              "<table border=\"1\" class=\"dataframe\">\n",
              "  <thead>\n",
              "    <tr style=\"text-align: right;\">\n",
              "      <th></th>\n",
              "      <th>Unnamed: 0</th>\n",
              "      <th>Unnamed: 0.1</th>\n",
              "      <th>fire_name</th>\n",
              "      <th>fire_size</th>\n",
              "      <th>fire_size_class</th>\n",
              "      <th>stat_cause_descr</th>\n",
              "      <th>latitude</th>\n",
              "      <th>longitude</th>\n",
              "      <th>state</th>\n",
              "      <th>disc_clean_date</th>\n",
              "      <th>cont_clean_date</th>\n",
              "      <th>discovery_month</th>\n",
              "      <th>disc_date_final</th>\n",
              "      <th>cont_date_final</th>\n",
              "      <th>putout_time</th>\n",
              "      <th>disc_date_pre</th>\n",
              "      <th>disc_pre_year</th>\n",
              "      <th>disc_pre_month</th>\n",
              "      <th>wstation_usaf</th>\n",
              "      <th>dstation_m</th>\n",
              "      <th>wstation_wban</th>\n",
              "      <th>wstation_byear</th>\n",
              "      <th>wstation_eyear</th>\n",
              "      <th>Vegetation</th>\n",
              "      <th>fire_mag</th>\n",
              "      <th>weather_file</th>\n",
              "      <th>Temp_pre_30</th>\n",
              "      <th>Temp_pre_15</th>\n",
              "      <th>Temp_pre_7</th>\n",
              "      <th>Temp_cont</th>\n",
              "      <th>Wind_pre_30</th>\n",
              "      <th>Wind_pre_15</th>\n",
              "      <th>Wind_pre_7</th>\n",
              "      <th>Wind_cont</th>\n",
              "      <th>Hum_pre_30</th>\n",
              "      <th>Hum_pre_15</th>\n",
              "      <th>Hum_pre_7</th>\n",
              "      <th>Hum_cont</th>\n",
              "      <th>Prec_pre_30</th>\n",
              "      <th>Prec_pre_15</th>\n",
              "      <th>Prec_pre_7</th>\n",
              "      <th>Prec_cont</th>\n",
              "      <th>remoteness</th>\n",
              "    </tr>\n",
              "  </thead>\n",
              "  <tbody>\n",
              "    <tr>\n",
              "      <th>3</th>\n",
              "      <td>3</td>\n",
              "      <td>3</td>\n",
              "      <td>WNA  1</td>\n",
              "      <td>1.00</td>\n",
              "      <td>B</td>\n",
              "      <td>Debris Burning</td>\n",
              "      <td>39.6414</td>\n",
              "      <td>-119.3083</td>\n",
              "      <td>NV</td>\n",
              "      <td>6/6/2005</td>\n",
              "      <td>6/6/2005</td>\n",
              "      <td>Jun</td>\n",
              "      <td>6/6/2005 2:14</td>\n",
              "      <td>6/6/2005 18:00</td>\n",
              "      <td>0 days 00:00:00.000000000</td>\n",
              "      <td>5/7/2005</td>\n",
              "      <td>2005</td>\n",
              "      <td>May</td>\n",
              "      <td>724880</td>\n",
              "      <td>43433.32978</td>\n",
              "      <td>23185</td>\n",
              "      <td>1942</td>\n",
              "      <td>2020</td>\n",
              "      <td>0</td>\n",
              "      <td>0.1</td>\n",
              "      <td>724880-23185-2005.gz</td>\n",
              "      <td>16.275967</td>\n",
              "      <td>18.996181</td>\n",
              "      <td>18.142564</td>\n",
              "      <td>0.0</td>\n",
              "      <td>4.054982</td>\n",
              "      <td>3.398329</td>\n",
              "      <td>3.671282</td>\n",
              "      <td>0.0</td>\n",
              "      <td>44.778429</td>\n",
              "      <td>37.140811</td>\n",
              "      <td>35.353846</td>\n",
              "      <td>0.0</td>\n",
              "      <td>10.4</td>\n",
              "      <td>7.2</td>\n",
              "      <td>0.0</td>\n",
              "      <td>0.0</td>\n",
              "      <td>0.487447</td>\n",
              "    </tr>\n",
              "    <tr>\n",
              "      <th>9</th>\n",
              "      <td>9</td>\n",
              "      <td>9</td>\n",
              "      <td>CRAZY</td>\n",
              "      <td>1.00</td>\n",
              "      <td>B</td>\n",
              "      <td>Miscellaneous</td>\n",
              "      <td>48.8394</td>\n",
              "      <td>-99.7185</td>\n",
              "      <td>ND</td>\n",
              "      <td>4/19/2004</td>\n",
              "      <td>4/19/2004</td>\n",
              "      <td>Apr</td>\n",
              "      <td>4/19/2004 20:30</td>\n",
              "      <td>4/19/2004 22:30</td>\n",
              "      <td>0 days 00:00:00.000000000</td>\n",
              "      <td>3/20/2004</td>\n",
              "      <td>2004</td>\n",
              "      <td>Mar</td>\n",
              "      <td>727675</td>\n",
              "      <td>129109.88140</td>\n",
              "      <td>99999</td>\n",
              "      <td>1936</td>\n",
              "      <td>2020</td>\n",
              "      <td>15</td>\n",
              "      <td>0.1</td>\n",
              "      <td>727675-99999-2004.gz</td>\n",
              "      <td>4.600950</td>\n",
              "      <td>6.861878</td>\n",
              "      <td>6.053333</td>\n",
              "      <td>0.0</td>\n",
              "      <td>6.380760</td>\n",
              "      <td>6.334254</td>\n",
              "      <td>6.645333</td>\n",
              "      <td>0.0</td>\n",
              "      <td>64.606509</td>\n",
              "      <td>55.943038</td>\n",
              "      <td>54.337838</td>\n",
              "      <td>0.0</td>\n",
              "      <td>12.3</td>\n",
              "      <td>1.8</td>\n",
              "      <td>0.0</td>\n",
              "      <td>0.0</td>\n",
              "      <td>0.291683</td>\n",
              "    </tr>\n",
              "    <tr>\n",
              "      <th>26</th>\n",
              "      <td>26</td>\n",
              "      <td>26</td>\n",
              "      <td>STO3573155</td>\n",
              "      <td>2.00</td>\n",
              "      <td>B</td>\n",
              "      <td>Debris Burning</td>\n",
              "      <td>35.7189</td>\n",
              "      <td>-92.3350</td>\n",
              "      <td>AR</td>\n",
              "      <td>1/19/2014</td>\n",
              "      <td>1/19/2014</td>\n",
              "      <td>Jan</td>\n",
              "      <td>1/19/2014 11:58</td>\n",
              "      <td>1/19/2014 13:02</td>\n",
              "      <td>0 days 00:00:00.000000000</td>\n",
              "      <td>12/20/2013</td>\n",
              "      <td>2013</td>\n",
              "      <td>Dec</td>\n",
              "      <td>720401</td>\n",
              "      <td>16806.87914</td>\n",
              "      <td>99999</td>\n",
              "      <td>2007</td>\n",
              "      <td>2020</td>\n",
              "      <td>15</td>\n",
              "      <td>0.1</td>\n",
              "      <td>720401-00133-2013.gz</td>\n",
              "      <td>3.490698</td>\n",
              "      <td>0.000000</td>\n",
              "      <td>0.000000</td>\n",
              "      <td>0.0</td>\n",
              "      <td>1.347442</td>\n",
              "      <td>0.000000</td>\n",
              "      <td>0.000000</td>\n",
              "      <td>0.0</td>\n",
              "      <td>76.091398</td>\n",
              "      <td>0.000000</td>\n",
              "      <td>0.000000</td>\n",
              "      <td>0.0</td>\n",
              "      <td>0.0</td>\n",
              "      <td>0.0</td>\n",
              "      <td>0.0</td>\n",
              "      <td>0.0</td>\n",
              "      <td>0.227270</td>\n",
              "    </tr>\n",
              "    <tr>\n",
              "      <th>31</th>\n",
              "      <td>31</td>\n",
              "      <td>31</td>\n",
              "      <td>AXE RONDEAU</td>\n",
              "      <td>1.20</td>\n",
              "      <td>B</td>\n",
              "      <td>Debris Burning</td>\n",
              "      <td>48.8330</td>\n",
              "      <td>-99.7836</td>\n",
              "      <td>ND</td>\n",
              "      <td>4/7/2007</td>\n",
              "      <td>4/7/2007</td>\n",
              "      <td>Apr</td>\n",
              "      <td>4/7/2007 20:16</td>\n",
              "      <td>4/7/2007 20:30</td>\n",
              "      <td>0 days 00:00:00.000000000</td>\n",
              "      <td>3/8/2007</td>\n",
              "      <td>2007</td>\n",
              "      <td>Mar</td>\n",
              "      <td>727573</td>\n",
              "      <td>102830.03610</td>\n",
              "      <td>99999</td>\n",
              "      <td>2006</td>\n",
              "      <td>2020</td>\n",
              "      <td>15</td>\n",
              "      <td>0.1</td>\n",
              "      <td>727573-94928-2007.gz</td>\n",
              "      <td>-0.891635</td>\n",
              "      <td>0.372659</td>\n",
              "      <td>-4.273834</td>\n",
              "      <td>0.0</td>\n",
              "      <td>5.800667</td>\n",
              "      <td>6.012852</td>\n",
              "      <td>6.658621</td>\n",
              "      <td>0.0</td>\n",
              "      <td>77.575012</td>\n",
              "      <td>75.963981</td>\n",
              "      <td>71.173116</td>\n",
              "      <td>0.0</td>\n",
              "      <td>21.2</td>\n",
              "      <td>21.2</td>\n",
              "      <td>9.2</td>\n",
              "      <td>0.0</td>\n",
              "      <td>0.292303</td>\n",
              "    </tr>\n",
              "    <tr>\n",
              "      <th>35</th>\n",
              "      <td>35</td>\n",
              "      <td>35</td>\n",
              "      <td>FY2001-EARLY-021</td>\n",
              "      <td>30.18</td>\n",
              "      <td>C</td>\n",
              "      <td>Debris Burning</td>\n",
              "      <td>31.2590</td>\n",
              "      <td>-84.8956</td>\n",
              "      <td>GA</td>\n",
              "      <td>10/19/2000</td>\n",
              "      <td>10/19/2000</td>\n",
              "      <td>Oct</td>\n",
              "      <td>10/19/2000 20:55</td>\n",
              "      <td>10/19/2000 20:55</td>\n",
              "      <td>0 days 00:00:00.000000000</td>\n",
              "      <td>9/19/2000</td>\n",
              "      <td>2000</td>\n",
              "      <td>Sep</td>\n",
              "      <td>722268</td>\n",
              "      <td>53177.96665</td>\n",
              "      <td>13839</td>\n",
              "      <td>1935</td>\n",
              "      <td>2020</td>\n",
              "      <td>12</td>\n",
              "      <td>1.0</td>\n",
              "      <td>722268-99999-2000.gz</td>\n",
              "      <td>20.079480</td>\n",
              "      <td>17.722714</td>\n",
              "      <td>18.188679</td>\n",
              "      <td>0.0</td>\n",
              "      <td>3.659840</td>\n",
              "      <td>3.366443</td>\n",
              "      <td>2.211429</td>\n",
              "      <td>0.0</td>\n",
              "      <td>67.551783</td>\n",
              "      <td>61.733788</td>\n",
              "      <td>60.328571</td>\n",
              "      <td>0.0</td>\n",
              "      <td>0.0</td>\n",
              "      <td>0.0</td>\n",
              "      <td>0.0</td>\n",
              "      <td>0.0</td>\n",
              "      <td>0.162416</td>\n",
              "    </tr>\n",
              "  </tbody>\n",
              "</table>\n",
              "</div>"
            ],
            "text/plain": [
              "    Unnamed: 0  Unnamed: 0.1  ... Prec_cont  remoteness\n",
              "3            3             3  ...       0.0    0.487447\n",
              "9            9             9  ...       0.0    0.291683\n",
              "26          26            26  ...       0.0    0.227270\n",
              "31          31            31  ...       0.0    0.292303\n",
              "35          35            35  ...       0.0    0.162416\n",
              "\n",
              "[5 rows x 43 columns]"
            ]
          },
          "metadata": {},
          "execution_count": 70
        }
      ]
    },
    {
      "cell_type": "code",
      "metadata": {
        "colab": {
          "base_uri": "https://localhost:8080/",
          "height": 527
        },
        "id": "_N5EQvtMLjWa",
        "outputId": "605565df-3b35-47f2-888b-c39d7aa62ec2"
      },
      "source": [
        "# Humidity could not be zero at anytime. So cleaning the data to take the values which are above zero.\n",
        "df = df[df['Hum_pre_7'] > 0]\n",
        "plt.scatter(df['Prec_pre_7'], df['Hum_pre_7'])\n",
        "df.head(3)"
      ],
      "execution_count": 71,
      "outputs": [
        {
          "output_type": "execute_result",
          "data": {
            "text/html": [
              "<div>\n",
              "<style scoped>\n",
              "    .dataframe tbody tr th:only-of-type {\n",
              "        vertical-align: middle;\n",
              "    }\n",
              "\n",
              "    .dataframe tbody tr th {\n",
              "        vertical-align: top;\n",
              "    }\n",
              "\n",
              "    .dataframe thead th {\n",
              "        text-align: right;\n",
              "    }\n",
              "</style>\n",
              "<table border=\"1\" class=\"dataframe\">\n",
              "  <thead>\n",
              "    <tr style=\"text-align: right;\">\n",
              "      <th></th>\n",
              "      <th>Unnamed: 0</th>\n",
              "      <th>Unnamed: 0.1</th>\n",
              "      <th>fire_name</th>\n",
              "      <th>fire_size</th>\n",
              "      <th>fire_size_class</th>\n",
              "      <th>stat_cause_descr</th>\n",
              "      <th>latitude</th>\n",
              "      <th>longitude</th>\n",
              "      <th>state</th>\n",
              "      <th>disc_clean_date</th>\n",
              "      <th>cont_clean_date</th>\n",
              "      <th>discovery_month</th>\n",
              "      <th>disc_date_final</th>\n",
              "      <th>cont_date_final</th>\n",
              "      <th>putout_time</th>\n",
              "      <th>disc_date_pre</th>\n",
              "      <th>disc_pre_year</th>\n",
              "      <th>disc_pre_month</th>\n",
              "      <th>wstation_usaf</th>\n",
              "      <th>dstation_m</th>\n",
              "      <th>wstation_wban</th>\n",
              "      <th>wstation_byear</th>\n",
              "      <th>wstation_eyear</th>\n",
              "      <th>Vegetation</th>\n",
              "      <th>fire_mag</th>\n",
              "      <th>weather_file</th>\n",
              "      <th>Temp_pre_30</th>\n",
              "      <th>Temp_pre_15</th>\n",
              "      <th>Temp_pre_7</th>\n",
              "      <th>Temp_cont</th>\n",
              "      <th>Wind_pre_30</th>\n",
              "      <th>Wind_pre_15</th>\n",
              "      <th>Wind_pre_7</th>\n",
              "      <th>Wind_cont</th>\n",
              "      <th>Hum_pre_30</th>\n",
              "      <th>Hum_pre_15</th>\n",
              "      <th>Hum_pre_7</th>\n",
              "      <th>Hum_cont</th>\n",
              "      <th>Prec_pre_30</th>\n",
              "      <th>Prec_pre_15</th>\n",
              "      <th>Prec_pre_7</th>\n",
              "      <th>Prec_cont</th>\n",
              "      <th>remoteness</th>\n",
              "    </tr>\n",
              "  </thead>\n",
              "  <tbody>\n",
              "    <tr>\n",
              "      <th>3</th>\n",
              "      <td>3</td>\n",
              "      <td>3</td>\n",
              "      <td>WNA  1</td>\n",
              "      <td>1.0</td>\n",
              "      <td>B</td>\n",
              "      <td>Debris Burning</td>\n",
              "      <td>39.6414</td>\n",
              "      <td>-119.3083</td>\n",
              "      <td>NV</td>\n",
              "      <td>6/6/2005</td>\n",
              "      <td>6/6/2005</td>\n",
              "      <td>Jun</td>\n",
              "      <td>6/6/2005 2:14</td>\n",
              "      <td>6/6/2005 18:00</td>\n",
              "      <td>0 days 00:00:00.000000000</td>\n",
              "      <td>5/7/2005</td>\n",
              "      <td>2005</td>\n",
              "      <td>May</td>\n",
              "      <td>724880</td>\n",
              "      <td>43433.32978</td>\n",
              "      <td>23185</td>\n",
              "      <td>1942</td>\n",
              "      <td>2020</td>\n",
              "      <td>0</td>\n",
              "      <td>0.1</td>\n",
              "      <td>724880-23185-2005.gz</td>\n",
              "      <td>16.275967</td>\n",
              "      <td>18.996181</td>\n",
              "      <td>18.142564</td>\n",
              "      <td>0.0</td>\n",
              "      <td>4.054982</td>\n",
              "      <td>3.398329</td>\n",
              "      <td>3.671282</td>\n",
              "      <td>0.0</td>\n",
              "      <td>44.778429</td>\n",
              "      <td>37.140811</td>\n",
              "      <td>35.353846</td>\n",
              "      <td>0.0</td>\n",
              "      <td>10.4</td>\n",
              "      <td>7.2</td>\n",
              "      <td>0.0</td>\n",
              "      <td>0.0</td>\n",
              "      <td>0.487447</td>\n",
              "    </tr>\n",
              "    <tr>\n",
              "      <th>9</th>\n",
              "      <td>9</td>\n",
              "      <td>9</td>\n",
              "      <td>CRAZY</td>\n",
              "      <td>1.0</td>\n",
              "      <td>B</td>\n",
              "      <td>Miscellaneous</td>\n",
              "      <td>48.8394</td>\n",
              "      <td>-99.7185</td>\n",
              "      <td>ND</td>\n",
              "      <td>4/19/2004</td>\n",
              "      <td>4/19/2004</td>\n",
              "      <td>Apr</td>\n",
              "      <td>4/19/2004 20:30</td>\n",
              "      <td>4/19/2004 22:30</td>\n",
              "      <td>0 days 00:00:00.000000000</td>\n",
              "      <td>3/20/2004</td>\n",
              "      <td>2004</td>\n",
              "      <td>Mar</td>\n",
              "      <td>727675</td>\n",
              "      <td>129109.88140</td>\n",
              "      <td>99999</td>\n",
              "      <td>1936</td>\n",
              "      <td>2020</td>\n",
              "      <td>15</td>\n",
              "      <td>0.1</td>\n",
              "      <td>727675-99999-2004.gz</td>\n",
              "      <td>4.600950</td>\n",
              "      <td>6.861878</td>\n",
              "      <td>6.053333</td>\n",
              "      <td>0.0</td>\n",
              "      <td>6.380760</td>\n",
              "      <td>6.334254</td>\n",
              "      <td>6.645333</td>\n",
              "      <td>0.0</td>\n",
              "      <td>64.606509</td>\n",
              "      <td>55.943038</td>\n",
              "      <td>54.337838</td>\n",
              "      <td>0.0</td>\n",
              "      <td>12.3</td>\n",
              "      <td>1.8</td>\n",
              "      <td>0.0</td>\n",
              "      <td>0.0</td>\n",
              "      <td>0.291683</td>\n",
              "    </tr>\n",
              "    <tr>\n",
              "      <th>31</th>\n",
              "      <td>31</td>\n",
              "      <td>31</td>\n",
              "      <td>AXE RONDEAU</td>\n",
              "      <td>1.2</td>\n",
              "      <td>B</td>\n",
              "      <td>Debris Burning</td>\n",
              "      <td>48.8330</td>\n",
              "      <td>-99.7836</td>\n",
              "      <td>ND</td>\n",
              "      <td>4/7/2007</td>\n",
              "      <td>4/7/2007</td>\n",
              "      <td>Apr</td>\n",
              "      <td>4/7/2007 20:16</td>\n",
              "      <td>4/7/2007 20:30</td>\n",
              "      <td>0 days 00:00:00.000000000</td>\n",
              "      <td>3/8/2007</td>\n",
              "      <td>2007</td>\n",
              "      <td>Mar</td>\n",
              "      <td>727573</td>\n",
              "      <td>102830.03610</td>\n",
              "      <td>99999</td>\n",
              "      <td>2006</td>\n",
              "      <td>2020</td>\n",
              "      <td>15</td>\n",
              "      <td>0.1</td>\n",
              "      <td>727573-94928-2007.gz</td>\n",
              "      <td>-0.891635</td>\n",
              "      <td>0.372659</td>\n",
              "      <td>-4.273834</td>\n",
              "      <td>0.0</td>\n",
              "      <td>5.800667</td>\n",
              "      <td>6.012852</td>\n",
              "      <td>6.658621</td>\n",
              "      <td>0.0</td>\n",
              "      <td>77.575012</td>\n",
              "      <td>75.963981</td>\n",
              "      <td>71.173116</td>\n",
              "      <td>0.0</td>\n",
              "      <td>21.2</td>\n",
              "      <td>21.2</td>\n",
              "      <td>9.2</td>\n",
              "      <td>0.0</td>\n",
              "      <td>0.292303</td>\n",
              "    </tr>\n",
              "  </tbody>\n",
              "</table>\n",
              "</div>"
            ],
            "text/plain": [
              "    Unnamed: 0  Unnamed: 0.1    fire_name  ...  Prec_pre_7 Prec_cont remoteness\n",
              "3            3             3       WNA  1  ...         0.0       0.0   0.487447\n",
              "9            9             9        CRAZY  ...         0.0       0.0   0.291683\n",
              "31          31            31  AXE RONDEAU  ...         9.2       0.0   0.292303\n",
              "\n",
              "[3 rows x 43 columns]"
            ]
          },
          "metadata": {},
          "execution_count": 71
        },
        {
          "output_type": "display_data",
          "data": {
            "image/png": "[encoded data removed]",
            "text/plain": [
              "<Figure size 432x288 with 1 Axes>"
            ]
          },
          "metadata": {
            "needs_background": "light"
          }
        }
      ]
    },
    {
      "cell_type": "code",
      "metadata": {
        "id": "YqbM9KzwNSm3"
      },
      "source": [
        "# Lets build K-means clustering on above data for comparison\n",
        "# I am selecting k=4, from elbo method implemented in assignment 1\n",
        "# df.head(3)\n",
        "X=df[['Prec_pre_7','Hum_pre_7']]\n"
      ],
      "execution_count": 72,
      "outputs": []
    },
    {
      "cell_type": "code",
      "metadata": {
        "colab": {
          "base_uri": "https://localhost:8080/"
        },
        "id": "NTVGVIefYgTn",
        "outputId": "da4871d1-8933-4a7b-f6b1-e435f912e795"
      },
      "source": [
        "# Appling K-means clustering\n",
        "km=KMeans(n_clusters=4 , init = 'k-means++', max_iter = 300, n_init = 10, random_state = 0)\n",
        "y_km = km.fit_predict(X)\n",
        "y_km"
      ],
      "execution_count": 73,
      "outputs": [
        {
          "output_type": "execute_result",
          "data": {
            "text/plain": [
              "array([1, 0, 0, ..., 0, 1, 0], dtype=int32)"
            ]
          },
          "metadata": {},
          "execution_count": 73
        }
      ]
    },
    {
      "cell_type": "code",
      "metadata": {
        "id": "IEAC_kIxZ9hn"
      },
      "source": [
        "df['Arry'] = y_km"
      ],
      "execution_count": 74,
      "outputs": []
    },
    {
      "cell_type": "code",
      "metadata": {
        "colab": {
          "base_uri": "https://localhost:8080/",
          "height": 296
        },
        "id": "To64XCmfaFCM",
        "outputId": "85b0aa4c-5428-4637-e737-57816b1588f7"
      },
      "source": [
        "\n",
        "df1 = df[df.Arry==0]\n",
        "df2 = df[df.Arry==1]\n",
        "df3 = df[df.Arry==2]\n",
        "df4 = df[df.Arry==3]\n",
        "plt.scatter(df1.Prec_pre_7,df1.Hum_pre_7,color = 'blue')\n",
        "plt.scatter(df2.Prec_pre_7,df2.Hum_pre_7, color = 'red')\n",
        "plt.scatter(df3.Prec_pre_7,df3.Hum_pre_7, color = 'yellow')\n",
        "plt.scatter(df4.Prec_pre_7,df4.Hum_pre_7, color = 'black')\n",
        "plt.scatter(km.cluster_centers_[:,0],km.cluster_centers_[:,1], color ='brown', marker='*', label ='Centroid')\n",
        "# plt.scatter(df['fire_mag'],df['fire_size'] , color = 'white')\n",
        "plt.xlabel(\"Precipitation in 7 days in mm\")\n",
        "plt.ylabel('Humidity percentage before 7 days')\n",
        "plt.legend()"
      ],
      "execution_count": 75,
      "outputs": [
        {
          "output_type": "execute_result",
          "data": {
            "text/plain": [
              "<matplotlib.legend.Legend at 0x7faa0ce5a390>"
            ]
          },
          "metadata": {},
          "execution_count": 75
        },
        {
          "output_type": "display_data",
          "data": {
            "image/png": "[encoded data removed]",
            "text/plain": [
              "<Figure size 432x288 with 1 Axes>"
            ]
          },
          "metadata": {
            "needs_background": "light"
          }
        }
      ]
    },
    {
      "cell_type": "markdown",
      "metadata": {
        "id": "RSmYtw4_aWip"
      },
      "source": [
        "**Gaussian Matrix model implementation**"
      ]
    },
    {
      "cell_type": "code",
      "metadata": {
        "colab": {
          "base_uri": "https://localhost:8080/",
          "height": 513
        },
        "id": "EoGoGgwt1VJQ",
        "outputId": "bb65e299-a89e-49c6-969a-a77edc6e775d"
      },
      "source": [
        "# Using Elbow method:\n",
        "from sklearn.cluster import KMeans\n",
        "plt.figure(figsize=(10,8))\n",
        "# Within-Cluster-Sum-of-Squares \n",
        "wcss = []\n",
        "for i in range(1, 11):\n",
        "    kmeans = KMeans(n_clusters = i, init = 'k-means++', random_state = 42)\n",
        "    kmeans.fit(X)\n",
        "    wcss.append(kmeans.inertia_)\n",
        "    \n",
        "plt.plot(range(1, 11), wcss)\n",
        "plt.title('The Elbow Method')\n",
        "plt.xlabel('Number of clusters')\n",
        "plt.ylabel('SSE Within Clusters')\n",
        "plt.show()"
      ],
      "execution_count": 87,
      "outputs": [
        {
          "output_type": "display_data",
          "data": {
            "image/png": "[encoded data removed]",
            "text/plain": [
              "<Figure size 720x576 with 1 Axes>"
            ]
          },
          "metadata": {
            "needs_background": "light"
          }
        }
      ]
    },
    {
      "cell_type": "code",
      "metadata": {
        "id": "j2TOR0SqaKs1"
      },
      "source": [
        "from sklearn.mixture import GaussianMixture\n",
        "gmm = GaussianMixture(n_components=5)\n",
        "# Here I am using K=5, by above \n",
        "gmm.fit(X)\n",
        "#predictions from gmm\n",
        "labels = gmm.predict(X)"
      ],
      "execution_count": 84,
      "outputs": []
    },
    {
      "cell_type": "code",
      "metadata": {
        "colab": {
          "base_uri": "https://localhost:8080/",
          "height": 282
        },
        "id": "Qv5TdS_Da9En",
        "outputId": "2cc2e86f-e6bf-4017-ed00-6522d70f6abd"
      },
      "source": [
        "frame = pd.DataFrame(X)\n",
        "frame['cluster'] = labels\n",
        "frame.columns = ['Prec_pre_7', 'Hum_pre_7', 'cluster']\n",
        "print(frame.columns)\n",
        "\n",
        "\n",
        "color=['blue','red','yellow', 'black','cyan']\n",
        "for k in range(0,5):\n",
        "    df = frame[frame[\"cluster\"]==k]\n",
        "    plt.scatter(df['Prec_pre_7'], df['Hum_pre_7'],c=color[k])\n",
        "plt.show()"
      ],
      "execution_count": 85,
      "outputs": [
        {
          "output_type": "stream",
          "name": "stdout",
          "text": [
            "Index(['Prec_pre_7', 'Hum_pre_7', 'cluster'], dtype='object')\n"
          ]
        },
        {
          "output_type": "display_data",
          "data": {
            "image/png": "[encoded data removed]",
            "text/plain": [
              "<Figure size 432x288 with 1 Axes>"
            ]
          },
          "metadata": {
            "needs_background": "light"
          }
        }
      ]
    },
    {
      "cell_type": "code",
      "metadata": {
        "colab": {
          "base_uri": "https://localhost:8080/"
        },
        "id": "vDF1zhAIbBlK",
        "outputId": "1b9b03ad-9ab0-4228-8792-8469c0c566e8"
      },
      "source": [
        "# GMM Silhouette Score\n",
        "from sklearn import metrics \n",
        "score = metrics.silhouette_score(X, labels, metric='euclidean', random_state=10)\n",
        "print(\"silhouette score: \" + str(score.round(2)))"
      ],
      "execution_count": 86,
      "outputs": [
        {
          "output_type": "stream",
          "name": "stdout",
          "text": [
            "silhouette score: 0.22\n"
          ]
        }
      ]
    },
    {
      "cell_type": "markdown",
      "metadata": {
        "id": "CkW3G9AJ1NKk"
      },
      "source": [
        "**other Algorithm Using DBSCAN**"
      ]
    },
    {
      "cell_type": "code",
      "metadata": {
        "colab": {
          "base_uri": "https://localhost:8080/"
        },
        "id": "-QrXjGiN1kcz",
        "outputId": "cfcf54d7-daa3-47c4-94c3-ebd5c98ed7f4"
      },
      "source": [
        "np.unique(kmeans.labels_)"
      ],
      "execution_count": 88,
      "outputs": [
        {
          "output_type": "execute_result",
          "data": {
            "text/plain": [
              "array([0, 1, 2, 3, 4, 5, 6, 7, 8, 9], dtype=int32)"
            ]
          },
          "metadata": {},
          "execution_count": 88
        }
      ]
    },
    {
      "cell_type": "code",
      "metadata": {
        "colab": {
          "base_uri": "https://localhost:8080/",
          "height": 459
        },
        "id": "HMPogKp01s5J",
        "outputId": "18b22a55-0766-4efe-849e-c53ca93f12d1"
      },
      "source": [
        "from sklearn.preprocessing import StandardScaler\n",
        "from sklearn.cluster import KMeans\n",
        "from sklearn import metrics\n",
        "sc = StandardScaler()\n",
        "X_rb = sc.fit_transform(X)\n",
        "    \n",
        "sse_within_cluster = {}\n",
        "silhouette_score = {}\n",
        "    \n",
        "for i in range(2, 22): # Silhouette Coefficient is only defined if number of labels is 2 <= n_labels <= n_samples - 1\n",
        "    kmeans = KMeans(n_clusters=i, random_state=42, init = 'k-means++', n_jobs=-1)\n",
        "    kmeans.fit(X_rb)\n",
        "    sse_within_cluster[i] = kmeans.inertia_\n",
        "    silhouette_score[i] = metrics.silhouette_score(X_rb, kmeans.labels_, random_state=42)\n",
        "\n",
        "plt.figure(figsize=(10,6))\n",
        "ax1 = plt.subplot(211)\n",
        "plt.plot(list(sse_within_cluster.keys()), list(sse_within_cluster.values()))\n",
        "plt.xlabel(\"Number of Clusters\")\n",
        "plt.ylabel(\"SSE Within Cluster\")\n",
        "plt.title(\"SSE Within Cluster  \")\n",
        "plt.xticks([i for i in range(1, 22)], rotation=75)\n",
        "\n",
        "ax2 = plt.subplot(212)\n",
        "plt.plot(list(silhouette_score.keys()), list(silhouette_score.values()))\n",
        "plt.xlabel(\"Number of Clusters\")\n",
        "plt.ylabel(\"Silhouette Score\")\n",
        "plt.title(\"Silhouette Score Clustering\")\n",
        "plt.xticks([i for i in range(1, 22)], rotation=75)\n",
        "\n",
        "plt.subplots_adjust(top=0.95, bottom=0.08, left=0.10, right=0.95, hspace=0.5, wspace=0.35)"
      ],
      "execution_count": 89,
      "outputs": [
        {
          "output_type": "display_data",
          "data": {
            "image/png": "[encoded data removed]",
            "text/plain": [
              "<Figure size 720x432 with 2 Axes>"
            ]
          },
          "metadata": {
            "needs_background": "light"
          }
        }
      ]
    },
    {
      "cell_type": "code",
      "metadata": {
        "colab": {
          "base_uri": "https://localhost:8080/"
        },
        "id": "vlg4u9J211Kx",
        "outputId": "f03ffcc1-f397-43c4-a3b8-6c9047c19870"
      },
      "source": [
        "kmeans = KMeans(n_clusters = 5, init = 'k-means++', random_state = 42)\n",
        "y_kmeans = kmeans.fit_predict(X_rb)\n",
        "score = metrics.silhouette_score(X_rb, kmeans.labels_, random_state=10)\n",
        "sse_within_cluster = kmeans.inertia_\n",
        "\n",
        "print(\"clustering performance\")\n",
        "print(\"-----------------------------------\")\n",
        "print(\"silhouette score: \" + str(score.round(2)))\n",
        "print(\"sse withing cluster: \" + str(sse_within_cluster.round()))"
      ],
      "execution_count": 90,
      "outputs": [
        {
          "output_type": "stream",
          "name": "stdout",
          "text": [
            "clustering performance\n",
            "-----------------------------------\n",
            "silhouette score: 0.53\n",
            "sse withing cluster: 8616.0\n"
          ]
        }
      ]
    },
    {
      "cell_type": "code",
      "metadata": {
        "colab": {
          "base_uri": "https://localhost:8080/",
          "height": 621
        },
        "id": "aJVV6yVa2Td2",
        "outputId": "0b8e85b9-17ac-4aa0-8f89-34999e203c64"
      },
      "source": [
        "plt.figure(figsize=(15,10))\n",
        "plt.scatter(X_rb[y_kmeans == 0, 0], X_rb[y_kmeans == 0, 1], c = 'blue', label = 'Cluster 1')\n",
        "plt.scatter(X_rb[y_kmeans == 1, 0], X_rb[y_kmeans == 1, 1], c = 'red', label = 'Cluster 2')\n",
        "plt.scatter(X_rb[y_kmeans == 2, 0], X_rb[y_kmeans == 2, 1], c = 'yellow', label = 'Cluster 3')\n",
        "plt.scatter(X_rb[y_kmeans == 3, 0], X_rb[y_kmeans == 3, 1], c = 'black', label = 'Cluster 4')\n",
        "plt.scatter(X_rb[y_kmeans == 4, 0], X_rb[y_kmeans == 4, 1], c = 'cyan', label = 'Cluster 5')\n",
        "plt.scatter(kmeans.cluster_centers_[:, 0], kmeans.cluster_centers_[:, 1], s = 150, c = 'brown', label = 'Centroids')\n",
        "plt.title('KMeans Clusters -  Pracipitation Vs Humidity')\n",
        "plt.xlabel('Pracipitation')\n",
        "plt.ylabel('Humidity')\n",
        "plt.legend()\n",
        "plt.show()"
      ],
      "execution_count": 94,
      "outputs": [
        {
          "output_type": "display_data",
          "data": {
            "image/png": "[encoded data removed]",
            "text/plain": [
              "<Figure size 1080x720 with 1 Axes>"
            ]
          },
          "metadata": {
            "needs_background": "light"
          }
        }
      ]
    },
    {
      "cell_type": "code",
      "metadata": {
        "id": "0MrK82Mt2vzf"
      },
      "source": [
        ""
      ],
      "execution_count": null,
      "outputs": []
    },
    {
      "cell_type": "markdown",
      "metadata": {
        "id": "_HwFcMLU5H-X"
      },
      "source": [
        "**DBSCAN Clustering - Density based clustering**\n",
        "DBSCAN stands for Density- Based Spatial Clustering of Application with Noise (Noise includes outlires)\n",
        "\n",
        "There are two important parameters for DBSCAN clustering\n",
        "\n",
        "1.   eps: The distance that specifies the neighborhoods\n",
        "2.   minPts : Minimum number of datapoints to define a cluster\n",
        "\n",
        "\n"
      ]
    },
    {
      "cell_type": "code",
      "metadata": {
        "id": "ECM_qwef5QIt"
      },
      "source": [
        "import numpy as np\n",
        "from sklearn.cluster import DBSCAN"
      ],
      "execution_count": 95,
      "outputs": []
    },
    {
      "cell_type": "code",
      "metadata": {
        "colab": {
          "base_uri": "https://localhost:8080/"
        },
        "id": "xSQ7h7B-5UVw",
        "outputId": "fd881993-d8d4-4779-ab5e-e8ef10af3233"
      },
      "source": [
        "Sc = StandardScaler()\n",
        "X = Sc.fit_transform(X)\n",
        "# We are calculating dbscan value\n",
        "db = DBSCAN(eps=0.5, min_samples=5).fit(X)\n",
        "core_samples_mask = np.zeros_like(db.labels_, dtype=bool)\n",
        "core_samples_mask[db.core_sample_indices_] = True\n",
        "labels = db.labels_\n",
        "\n",
        "print(labels[500:560])\n",
        "# Number of clusters in labels, ignoring noise if present.\n",
        "n_clusters_ = len(set(labels)) - (1 if -1 in labels else 0)\n",
        "n_noise_ = list(labels).count(-1)\n",
        "print('Estimated number of clusters: %d' % n_clusters_)\n",
        "print('Estimated number of noise points: %d' % n_noise_)\n",
        "print(\"Silhouette Coefficient: %0.3f\" % metrics.silhouette_score(X, labels))"
      ],
      "execution_count": 96,
      "outputs": [
        {
          "output_type": "stream",
          "name": "stdout",
          "text": [
            "[0 1 2 2 2 1 2 2 2 1 2 2 1 2 2 1 1 3 1 2 2 3 2 0 1 1 3 2 1 2 2 1 2 0 2 1 1\n",
            " 1 1 1 0 1 2 1 0 1 3 0 2 0 0 2 1 1 1 1 1 1 1 2]\n",
            "Estimated number of clusters: 5\n",
            "Estimated number of noise points: 43\n",
            "Silhouette Coefficient: 0.563\n"
          ]
        }
      ]
    },
    {
      "cell_type": "code",
      "metadata": {
        "colab": {
          "base_uri": "https://localhost:8080/"
        },
        "id": "wHtvhehB5gWc",
        "outputId": "a5d65562-95db-4965-a957-b4ae473950b3"
      },
      "source": [
        "db = DBSCAN(eps=0.5, min_samples=20)\n",
        "db.fit(X)"
      ],
      "execution_count": 98,
      "outputs": [
        {
          "output_type": "execute_result",
          "data": {
            "text/plain": [
              "DBSCAN(algorithm='auto', eps=0.5, leaf_size=30, metric='euclidean',\n",
              "       metric_params=None, min_samples=20, n_jobs=None, p=None)"
            ]
          },
          "metadata": {},
          "execution_count": 98
        }
      ]
    },
    {
      "cell_type": "code",
      "metadata": {
        "colab": {
          "base_uri": "https://localhost:8080/",
          "height": 407
        },
        "id": "0gfblb8qG2RO",
        "outputId": "1d396219-2ad2-4e6e-cb39-e121aff8a27f"
      },
      "source": [
        "y_pred = db.fit_predict(X)\n",
        "plt.figure(figsize=(10,6))\n",
        "\n",
        "plt.scatter(X[:,0], X[:,1],c=y_pred, cmap='Paired')\n",
        "plt.title(\"Clusters determined by DBSCAN\")"
      ],
      "execution_count": 100,
      "outputs": [
        {
          "output_type": "execute_result",
          "data": {
            "text/plain": [
              "Text(0.5, 1.0, 'Clusters determined by DBSCAN')"
            ]
          },
          "metadata": {},
          "execution_count": 100
        },
        {
          "output_type": "display_data",
          "data": {
            "image/png": "[encoded data removed]",
            "text/plain": [
              "<Figure size 720x432 with 1 Axes>"
            ]
          },
          "metadata": {
            "needs_background": "light"
          }
        }
      ]
    },
    {
      "cell_type": "markdown",
      "metadata": {
        "id": "BFlBcj2-TaBZ"
      },
      "source": [
        "Inference:\n",
        "From above we can infere that, GMM has created more meaningfull clusters than K-means clustering.\n",
        "And by using DBSCAN method, seperated the outlires."
      ]
    }
  ]
}